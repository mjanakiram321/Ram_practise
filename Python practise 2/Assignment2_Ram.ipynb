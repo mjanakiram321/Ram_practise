{
 "cells": [
  {
   "cell_type": "code",
   "execution_count": 1,
   "id": "4460e47f",
   "metadata": {},
   "outputs": [],
   "source": [
    "import pandas as pd\n",
    "import numpy as np"
   ]
  },
  {
   "cell_type": "code",
   "execution_count": null,
   "id": "da1a0b1e",
   "metadata": {},
   "outputs": [],
   "source": [
    "# \"\"\"\n",
    "Given the input list and element to be found, return the index of the first occurance\n",
    "Input List = [\"hey\", \"how\", \"is\", \"hey\", \"you\", \"how\", \"are\", \"you\", \"hey\"]\n",
    "Search Element = \"you\"\n",
    "Output = 4\n",
    "\"\"\"\n",
    "\n",
    "## Question 1 - Method 1: \n",
    "\n",
    "input_list = [\"hey\", \"how\", \"is\", \"hey\", \"you\", \"how\", \"are\", \"you\", \"hey\"]\n",
    "search_elem = \"you\"\n",
    "\n",
    "first_index = -1  \n",
    "for index in range(len(input_list)):\n",
    "    if input_list[index] == search_elem:\n",
    "        first_index = index\n",
    "        break\n",
    "\n",
    "print(first_index)"
   ]
  },
  {
   "cell_type": "code",
   "execution_count": 4,
   "id": "be65b749",
   "metadata": {},
   "outputs": [
    {
     "name": "stdout",
     "output_type": "stream",
     "text": [
      "4\n"
     ]
    }
   ],
   "source": [
    "## question 2 - method 2\n",
    "\n",
    "first_index = -1 \n",
    "for index, value in enumerate(input_list):  # enumerate allows you to keep track of the number of iterations (loops) in a loop.\n",
    "    if value == search_elem:\n",
    "        first_index = index\n",
    "        break\n",
    "\n",
    "print(first_index)"
   ]
  },
  {
   "cell_type": "code",
   "execution_count": 6,
   "id": "b46de7d9",
   "metadata": {},
   "outputs": [
    {
     "name": "stdout",
     "output_type": "stream",
     "text": [
      "3\n"
     ]
    }
   ],
   "source": [
    "\"\"\"\n",
    "Given the input list, count the number of elements equal to 'search_elem'\n",
    "Input List = [\"hey\", \"how\", \"is\", \"hey\", \"you\", \"how\", \"are\", \"you\", \"hey\"]\n",
    "Search Element = \"hey\"\n",
    "Output = 3\n",
    "\"\"\"\n",
    "def count_occurrences(input_list, search_elem):\n",
    "    count = 0\n",
    "    for elem in input_list:\n",
    "        if elem == search_elem:\n",
    "            count += 1\n",
    "    return count\n",
    "\n",
    "result = count_occurrences(input_list, search_elem)\n",
    "print(result)"
   ]
  },
  {
   "cell_type": "code",
   "execution_count": 7,
   "id": "c1c552d4",
   "metadata": {},
   "outputs": [
    {
     "name": "stdout",
     "output_type": "stream",
     "text": [
      "{'hey': [0, 3, 8], 'you': [4, 7]}\n"
     ]
    }
   ],
   "source": [
    "\"\"\"\n",
    "Given the input list, and another list of search terms, return a dict with a list of their corresponding indices\n",
    "Input List = [\"hey\", \"how\", \"is\", \"hey\", \"you\", \"how\", \"are\", \"you\", \"hey\"]\n",
    "Search List = [\"hey\", \"you\"]\n",
    "Output Dict = {\n",
    "  \"hey\" : [0, 3, 8],\n",
    "  \"you\" : [4, 7]\n",
    "}\n",
    "\n",
    "Concept: Nested for loops -> One for loop inside another\n",
    "\"\"\"\n",
    "\n",
    "def find_indices(input_list, search_list):\n",
    "    result = {}\n",
    "    for search_elem in search_list:\n",
    "        result[search_elem] = []  # Initialize the list for the current search element\n",
    "        for index in range(len(input_list)):\n",
    "            if input_list[index] == search_elem:\n",
    "                result[search_elem].append(index)\n",
    "    return result\n",
    "\n",
    "# Example usage\n",
    "input_list = [\"hey\", \"how\", \"is\", \"hey\", \"you\", \"how\", \"are\", \"you\", \"hey\"]\n",
    "search_list = [\"hey\", \"you\"]\n",
    "\n",
    "output_dict = find_indices(input_list, search_list)\n",
    "print(output_dict)"
   ]
  }
 ],
 "metadata": {
  "kernelspec": {
   "display_name": "Python 3 (ipykernel)",
   "language": "python",
   "name": "python3"
  },
  "language_info": {
   "codemirror_mode": {
    "name": "ipython",
    "version": 3
   },
   "file_extension": ".py",
   "mimetype": "text/x-python",
   "name": "python",
   "nbconvert_exporter": "python",
   "pygments_lexer": "ipython3",
   "version": "3.10.9"
  }
 },
 "nbformat": 4,
 "nbformat_minor": 5
}
