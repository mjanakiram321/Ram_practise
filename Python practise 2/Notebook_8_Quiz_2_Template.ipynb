{
 "cells": [
  {
   "cell_type": "code",
   "execution_count": null,
   "metadata": {
    "id": "XKYdbT8Mwe7e"
   },
   "outputs": [],
   "source": [
    "\"\"\"\n",
    "Write 3 functions, one for each operation:\n",
    "Input: List of strings\n",
    "Assume: The search elements exist atleast once in the list\n",
    "\"\"\""
   ]
  },
  {
   "cell_type": "code",
   "execution_count": null,
   "metadata": {
    "id": "UQoc37eixzUs"
   },
   "outputs": [],
   "source": [
    "\"\"\"\n",
    "Given the input list and element to be found, return the index of the first occurance\n",
    "Input List = [\"hey\", \"how\", \"is\", \"hey\", \"you\", \"how\", \"are\", \"you\", \"hey\"]\n",
    "Search Element = \"you\"\n",
    "Output = 4\n",
    "\"\"\"\n",
    "def search(input_list, search_elem):\n",
    "  pass"
   ]
  },
  {
   "cell_type": "code",
   "execution_count": null,
   "metadata": {
    "id": "QjwLVStYyBHQ"
   },
   "outputs": [],
   "source": [
    "\"\"\"\n",
    "Given the input list, count the number of elements equal to 'search_elem'\n",
    "Input List = [\"hey\", \"how\", \"is\", \"hey\", \"you\", \"how\", \"are\", \"you\", \"hey\"]\n",
    "Search Element = \"hey\"\n",
    "Output = 3\n",
    "\"\"\"\n",
    "def count(input_list, search_elem):\n",
    "  pass"
   ]
  },
  {
   "cell_type": "code",
   "execution_count": null,
   "metadata": {
    "id": "6DanXkDvyTuY"
   },
   "outputs": [],
   "source": [
    "\"\"\"\n",
    "Given the input list, and another list of search terms, return a dict with a list of their corresponding indices\n",
    "Input List = [\"hey\", \"how\", \"is\", \"hey\", \"you\", \"how\", \"are\", \"you\", \"hey\"]\n",
    "Search List = [\"hey\", \"you\"]\n",
    "Output Dict = {\n",
    "  \"hey\" : [0, 3, 8],\n",
    "  \"you\" : [4, 7]\n",
    "}\n",
    "\n",
    "Concept: Nested for loops -> One for loop inside another\n",
    "\"\"\"\n",
    "\n",
    "def search_location(input_list, search_list):\n",
    "  pass"
   ]
  }
 ],
 "metadata": {
  "colab": {
   "provenance": []
  },
  "kernelspec": {
   "display_name": "Python 3 (ipykernel)",
   "language": "python",
   "name": "python3"
  },
  "language_info": {
   "codemirror_mode": {
    "name": "ipython",
    "version": 3
   },
   "file_extension": ".py",
   "mimetype": "text/x-python",
   "name": "python",
   "nbconvert_exporter": "python",
   "pygments_lexer": "ipython3",
   "version": "3.10.9"
  }
 },
 "nbformat": 4,
 "nbformat_minor": 1
}
