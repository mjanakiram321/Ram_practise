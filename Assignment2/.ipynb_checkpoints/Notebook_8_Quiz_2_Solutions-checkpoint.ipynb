{
 "cells": [
  {
   "cell_type": "code",
   "execution_count": null,
   "metadata": {
    "id": "XKYdbT8Mwe7e"
   },
   "outputs": [],
   "source": [
    "\"\"\"\n",
    "Write 3 functions, one for each operation:\n",
    "Input: List of strings\n",
    "Assume: The search elements exist atleast once in the list\n",
    "\"\"\""
   ]
  },
  {
   "cell_type": "code",
   "execution_count": 1,
   "metadata": {
    "id": "htf4_FV74RCf"
   },
   "outputs": [],
   "source": [
    "input_list = [\"hey\", \"how\", \"is\", \"hey\", \"you\", \"how\", \"are\", \"you\", \"hey\"]\n",
    "search_elem = \"you\""
   ]
  },
  {
   "cell_type": "code",
   "execution_count": 5,
   "metadata": {
    "colab": {
     "base_uri": "https://localhost:8080/"
    },
    "id": "UQoc37eixzUs",
    "outputId": "c17b3f87-dbaf-4aca-a796-fba309356fae"
   },
   "outputs": [
    {
     "name": "stdout",
     "output_type": "stream",
     "text": [
      "4\n"
     ]
    }
   ],
   "source": [
    "\"\"\"\n",
    "Given the input list and element to be found, return the index of the first occurance\n",
    "Input List = [\"hey\", \"how\", \"is\", \"hey\", \"you\", \"how\", \"are\", \"you\", \"hey\"]\n",
    "Search Element = \"you\"\n",
    "Output = 4\n",
    "\"\"\"\n",
    "def search(input_list, search_elem):\n",
    "  answer = -1\n",
    "  for idx in range(len(input_list)):\n",
    "    if(search_elem == input_list[idx]):\n",
    "      if(answer == -1):\n",
    "        answer = idx\n",
    "  return answer\n",
    "\n",
    "def search(input_list, search_elem):\n",
    "  for idx in range(len(input_list)):\n",
    "    if(search_elem == input_list[idx]):\n",
    "      return idx\n",
    "  return -1\n",
    "\n",
    "print(search(input_list, search_elem))"
   ]
  },
  {
   "cell_type": "code",
   "execution_count": 7,
   "metadata": {
    "colab": {
     "base_uri": "https://localhost:8080/"
    },
    "id": "QjwLVStYyBHQ",
    "outputId": "b332923c-a32c-4e1b-aa80-f61db9cb05f1"
   },
   "outputs": [
    {
     "data": {
      "text/plain": [
       "2"
      ]
     },
     "execution_count": 7,
     "metadata": {},
     "output_type": "execute_result"
    }
   ],
   "source": [
    "\"\"\"\n",
    "Given the input list, count the number of elements equal to 'search_elem'\n",
    "Input List = [\"hey\", \"how\", \"is\", \"hey\", \"you\", \"how\", \"are\", \"you\", \"hey\"]\n",
    "Search Element = \"hey\"\n",
    "Output = 3\n",
    "\"\"\"\n",
    "def count(input_list, search_elem):\n",
    "  count = 0\n",
    "  for i in input_list:\n",
    "    if(search_elem == i):\n",
    "      #count = count + 1\n",
    "      #shorthand - shorter way of writing arithmetic update ops\n",
    "      # count *= 1, count /=1\n",
    "      count += 1\n",
    "  return count\n",
    "\n",
    "count(input_list, search_elem)"
   ]
  },
  {
   "cell_type": "code",
   "execution_count": 1,
   "metadata": {
    "colab": {
     "base_uri": "https://localhost:8080/"
    },
    "id": "6DanXkDvyTuY",
    "outputId": "8a197c8d-dd48-4eae-feca-7f204d3658cf"
   },
   "outputs": [
    {
     "name": "stdout",
     "output_type": "stream",
     "text": [
      "{'hey': [0, 3, 8], 'you': [4, 7]}\n"
     ]
    }
   ],
   "source": [
    "\"\"\"\n",
    "Given the input list, and another list of search terms, return a dict with a list of their corresponding indices\n",
    "Input List = [\"hey\", \"how\", \"is\", \"hey\", \"you\", \"how\", \"are\", \"you\", \"hey\"]\n",
    "Search List = [\"hey\", \"you\"]\n",
    "Output Dict = {\n",
    "  \"hey\" : [0, 3, 8],\n",
    "  \"you\" : [4, 7]\n",
    "}\n",
    "\n",
    "Concept: Nested for loops -> One for loop inside another\n",
    "\"\"\"\n",
    "\n",
    "# Brute force solution\n",
    "def search_location(input_list, search_list):\n",
    "\n",
    "  # initialising output with empty lists\n",
    "  output = {}\n",
    "  for search_word in search_list:\n",
    "    output[search_word] = []\n",
    "\n",
    "  # Nested for loop - for loops inside one another\n",
    "  for search_word in search_list:\n",
    "    # search_word is fixed now - for this iteration!\n",
    "    for list_idx in range(len(input_list)):\n",
    "      if(search_word == input_list[list_idx]):\n",
    "        output[search_word].append(list_idx)\n",
    "\n",
    "  return output\n",
    "\n",
    "# Function calling stage\n",
    "input_list = [\"hey\", \"how\", \"is\", \"hey\", \"you\", \"how\", \"are\", \"you\", \"hey\"]\n",
    "search_list = [\"hey\", \"you\"]\n",
    "output = search_location(input_list, search_list)\n",
    "print(output)\n",
    "\n",
    "\n"
   ]
  },
  {
   "cell_type": "code",
   "execution_count": null,
   "metadata": {
    "id": "4iA2vwBs4RUE"
   },
   "outputs": [],
   "source": []
  }
 ],
 "metadata": {
  "colab": {
   "provenance": []
  },
  "kernelspec": {
   "display_name": "Python 3 (ipykernel)",
   "language": "python",
   "name": "python3"
  },
  "language_info": {
   "codemirror_mode": {
    "name": "ipython",
    "version": 3
   },
   "file_extension": ".py",
   "mimetype": "text/x-python",
   "name": "python",
   "nbconvert_exporter": "python",
   "pygments_lexer": "ipython3",
   "version": "3.10.9"
  }
 },
 "nbformat": 4,
 "nbformat_minor": 1
}
