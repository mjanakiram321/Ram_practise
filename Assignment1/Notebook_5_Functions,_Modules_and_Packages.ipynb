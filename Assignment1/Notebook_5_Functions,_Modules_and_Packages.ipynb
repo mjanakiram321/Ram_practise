{
  "nbformat": 4,
  "nbformat_minor": 0,
  "metadata": {
    "colab": {
      "provenance": []
    },
    "kernelspec": {
      "name": "python3",
      "display_name": "Python 3"
    },
    "language_info": {
      "name": "python"
    }
  },
  "cells": [
    {
      "cell_type": "markdown",
      "source": [
        "### User-Defined Custom Functions"
      ],
      "metadata": {
        "id": "Pc-YqzQXuZjR"
      }
    },
    {
      "cell_type": "code",
      "execution_count": 2,
      "metadata": {
        "colab": {
          "base_uri": "https://localhost:8080/"
        },
        "id": "urWxunljW9Wm",
        "outputId": "cc685be2-a52a-4a73-cb9b-7a88ef408c34"
      },
      "outputs": [
        {
          "output_type": "stream",
          "name": "stdout",
          "text": [
            "6\n"
          ]
        }
      ],
      "source": [
        "\"\"\"\n",
        "((2 * 3) + 7)/3\n",
        "\"\"\"\n",
        "\n",
        "operator = \"mul\"\n",
        "input1 = 2\n",
        "input2 = 3\n",
        "\n",
        "if(operator == \"add\"):\n",
        "  output = input1 + input2\n",
        "  print('YOLO!')\n",
        "  output2 = output / 3\n",
        "elif(operator == \"sub\"):\n",
        "  output = input1 - input2\n",
        "elif(operator == \"mul\"):\n",
        "  output = input1 * input2\n",
        "else:\n",
        "  output = -999999999\n",
        "  print('Invalid output')\n",
        "\n",
        "print(output)"
      ]
    },
    {
      "cell_type": "code",
      "source": [
        "operator = \"add\"\n",
        "input1 = output\n",
        "input2 = 7\n",
        "\n",
        "if(operator == \"add\"):\n",
        "  output = input1 + input2\n",
        "elif(operator == \"sub\"):\n",
        "  output = input1 - input2\n",
        "elif(operator == \"mul\"):\n",
        "  output = input1 * input2\n",
        "else:\n",
        "  output = -999999999\n",
        "  print('Invalid output')\n",
        "\n",
        "print(output)"
      ],
      "metadata": {
        "colab": {
          "base_uri": "https://localhost:8080/"
        },
        "id": "6TQ_7mqoepAN",
        "outputId": "c01de257-eaae-477a-ecc1-f09df20dde1c"
      },
      "execution_count": 3,
      "outputs": [
        {
          "output_type": "stream",
          "name": "stdout",
          "text": [
            "13\n"
          ]
        }
      ]
    },
    {
      "cell_type": "code",
      "source": [
        "operator = \"div\"\n",
        "input1 = output\n",
        "input2 = 3\n",
        "\n",
        "if(operator == \"add\"):\n",
        "  output = input1 + input2\n",
        "elif(operator == \"sub\"):\n",
        "  output = input1 - input2\n",
        "elif(operator == \"mul\"):\n",
        "  output = input1 * input2\n",
        "elif(operator == \"div\"):\n",
        "  output = input1/input2\n",
        "else:\n",
        "  output = -999999999\n",
        "  print('Invalid output')\n",
        "\n",
        "print(output)"
      ],
      "metadata": {
        "colab": {
          "base_uri": "https://localhost:8080/"
        },
        "id": "7P14RPfmgKwX",
        "outputId": "93ac6c1e-66de-47b2-d56e-275f71ecd99f"
      },
      "execution_count": 4,
      "outputs": [
        {
          "output_type": "stream",
          "name": "stdout",
          "text": [
            "4.333333333333333\n"
          ]
        }
      ]
    },
    {
      "cell_type": "code",
      "source": [
        "\"\"\"\n",
        "1. Mathematical Function\n",
        "y = f(x)\n",
        "f: function, transforms x -> y\n",
        "x: input\n",
        "y: output\n",
        "\n",
        "2. Function Definition Step\n",
        "def <function_name>(<argument list>):\n",
        "  ....\n",
        "\n",
        "3. Function calling step\n",
        "<function_name>(<argument_list>)\n",
        "\n",
        "4. Function tends to have 'return' step\n",
        "return <variable>\n",
        "\"\"\"\n",
        "\n",
        "def calculator(input1, input2, operator):\n",
        "  if(operator == \"add\"):\n",
        "    output = input1 + input2\n",
        "  elif(operator == \"sub\"):\n",
        "    output = input1 - input2\n",
        "  elif(operator == \"mul\"):\n",
        "    output = input1 * input2\n",
        "  elif(operator == \"div\"):\n",
        "    output = input1/input2\n",
        "  else:\n",
        "    output = -999999999\n",
        "    print('Invalid output')\n",
        "  return output\n",
        "\n"
      ],
      "metadata": {
        "id": "aKj4I5d7r9Ii"
      },
      "execution_count": 8,
      "outputs": []
    },
    {
      "cell_type": "code",
      "source": [
        "output = calculator(2, 3, \"mul\")\n",
        "output = calculator(output, 7, \"add\")\n",
        "output = calculator(output, 3, \"div\")\n",
        "print(output)"
      ],
      "metadata": {
        "colab": {
          "base_uri": "https://localhost:8080/"
        },
        "id": "YegeEf2YtgQn",
        "outputId": "7c091532-d6d3-43af-fd90-b4300f1b3030"
      },
      "execution_count": 9,
      "outputs": [
        {
          "output_type": "stream",
          "name": "stdout",
          "text": [
            "4.333333333333333\n"
          ]
        }
      ]
    },
    {
      "cell_type": "code",
      "source": [
        "# default parameter: if no value for a argument is mentioned, I will use the default value\n",
        "\n",
        "def calculator(input1, input2, operator='add'):\n",
        "  if(operator == \"add\"):\n",
        "    output = input1 + input2\n",
        "  elif(operator == \"sub\"):\n",
        "    output = input1 - input2\n",
        "  elif(operator == \"mul\"):\n",
        "    output = input1 * input2\n",
        "  elif(operator == \"div\"):\n",
        "    output = input1/input2\n",
        "  else:\n",
        "    output = -999999999\n",
        "    print('Invalid output')\n",
        "  return output\n",
        "\n",
        "\n",
        "# if not argument is mentioned\n",
        "output = calculator(2, 3)\n",
        "print(output)\n",
        "\n",
        "\n",
        "# if argument is mentioned: override!\n",
        "output = calculator(2, 3, 'mul')\n",
        "print(output)"
      ],
      "metadata": {
        "colab": {
          "base_uri": "https://localhost:8080/"
        },
        "id": "4KEsUPkFtkit",
        "outputId": "85a619ec-84ab-4e00-c734-f9d570870ac5"
      },
      "execution_count": 16,
      "outputs": [
        {
          "output_type": "stream",
          "name": "stdout",
          "text": [
            "5\n",
            "6\n"
          ]
        }
      ]
    },
    {
      "cell_type": "markdown",
      "source": [
        "### Built-in function"
      ],
      "metadata": {
        "id": "P2EabP6TufdH"
      }
    },
    {
      "cell_type": "code",
      "source": [
        "\"\"\"\n",
        "Built-in: Python itself provides these functions!\n",
        "\"\"\"\n",
        "print('Heyyy')\n",
        "type(output)"
      ],
      "metadata": {
        "colab": {
          "base_uri": "https://localhost:8080/"
        },
        "id": "t_k4OGDOug2_",
        "outputId": "248b960e-7f21-4dc2-bc83-471bb08ed2f4"
      },
      "execution_count": 10,
      "outputs": [
        {
          "output_type": "stream",
          "name": "stdout",
          "text": [
            "Heyyy\n"
          ]
        },
        {
          "output_type": "execute_result",
          "data": {
            "text/plain": [
              "float"
            ]
          },
          "metadata": {},
          "execution_count": 10
        }
      ]
    },
    {
      "cell_type": "code",
      "source": [
        "x = str(3)\n",
        "range(5)"
      ],
      "metadata": {
        "id": "JplRyYniutwh"
      },
      "execution_count": null,
      "outputs": []
    },
    {
      "cell_type": "markdown",
      "source": [
        "### Modules"
      ],
      "metadata": {
        "id": "33dz-mJ-vhWV"
      }
    },
    {
      "cell_type": "code",
      "source": [
        "\"\"\"\n",
        "Module: <file_name>.py\n",
        "Can have multiple functions within it\n",
        "\n",
        "**Style 1**\n",
        "Syntax: import <module_name>\n",
        "Usage: <library_name>.<function_name>\n",
        "\n",
        "**Style 2**\n",
        "from <module_name> import <function_name>\n",
        "\n",
        "**Style 3** Alias\n",
        "import <module_name> as <given_name>\n",
        "\"\"\"\n",
        "\n",
        "import math\n",
        "print(math.sqrt(12))\n",
        "\n",
        "from math import sqrt\n",
        "print(sqrt(12))\n",
        "\n",
        "import math as m\n",
        "print(m.sqrt(12))"
      ],
      "metadata": {
        "colab": {
          "base_uri": "https://localhost:8080/"
        },
        "id": "MH8CvopTvi8Y",
        "outputId": "7d7b3848-1937-4b50-804f-42551159d003"
      },
      "execution_count": 14,
      "outputs": [
        {
          "output_type": "stream",
          "name": "stdout",
          "text": [
            "3.4641016151377544\n",
            "3.4641016151377544\n",
            "3.4641016151377544\n"
          ]
        }
      ]
    },
    {
      "cell_type": "markdown",
      "source": [
        "### Package"
      ],
      "metadata": {
        "id": "-1_YFUc4xqlC"
      }
    },
    {
      "cell_type": "code",
      "source": [
        "\"\"\"\n",
        "A collection of modules!\n",
        "\n",
        "from <package_name>.<module_name> import <function_name>\n",
        "\n",
        "\"\"\"\n",
        "\n",
        "from sklearn.svm import SVC\n",
        "from sklearn.tree import DecisionTreeClassifier"
      ],
      "metadata": {
        "id": "qzQWlI1mwpy4"
      },
      "execution_count": null,
      "outputs": []
    }
  ]
}