{
 "cells": [
  {
   "cell_type": "markdown",
   "metadata": {},
   "source": [
    "# Import Libraries"
   ]
  },
  {
   "cell_type": "code",
   "execution_count": null,
   "metadata": {},
   "outputs": [],
   "source": []
  },
  {
   "cell_type": "markdown",
   "metadata": {},
   "source": [
    "# Import Data"
   ]
  },
  {
   "cell_type": "code",
   "execution_count": null,
   "metadata": {},
   "outputs": [],
   "source": []
  },
  {
   "cell_type": "code",
   "execution_count": null,
   "metadata": {},
   "outputs": [],
   "source": []
  },
  {
   "cell_type": "markdown",
   "metadata": {},
   "source": [
    "# Exploratory Data Analysis\n",
    "\n",
    "### Exploring and knowing your data (and hence defining a problem)\n",
    "\n",
    "* Statistical analysis - to look into the numbers\n",
    "* Univariate analysis (u) - plotting each columns individually\n",
    "* Multivariate analysis (m) - comparing columns with each other\n",
    "\n",
    "categorical columns:    \n",
    "countplot (U)   \n",
    "barplot (u)    \n",
    "violinplot (u)  \n",
    "\n",
    "continuous columns (numerical):   \n",
    "histograms (u)   \n",
    "boxplots (u) \n",
    "\n",
    "\n",
    "heatmap (m)  \n",
    "scatterplot (m)   \n",
    "lineplot (m, u)   \n",
    "   \n",
    "   \n",
    "Problems you might find:  \n",
    "skewed,  \n",
    "null values,  \n",
    "outliers  \n",
    "etc."
   ]
  },
  {
   "cell_type": "code",
   "execution_count": null,
   "metadata": {},
   "outputs": [],
   "source": []
  },
  {
   "cell_type": "code",
   "execution_count": null,
   "metadata": {},
   "outputs": [],
   "source": []
  },
  {
   "cell_type": "code",
   "execution_count": null,
   "metadata": {},
   "outputs": [],
   "source": []
  },
  {
   "cell_type": "code",
   "execution_count": null,
   "metadata": {},
   "outputs": [],
   "source": []
  },
  {
   "cell_type": "code",
   "execution_count": null,
   "metadata": {},
   "outputs": [],
   "source": []
  },
  {
   "cell_type": "markdown",
   "metadata": {},
   "source": [
    "# Preprocessing\n",
    "\n",
    "Apply selectively:\n",
    "* Imputation - null values\n",
    "* Handling Outliers - fixing outliers\n",
    "* Binning - grouping continuous parts\n",
    "* Log Transform - change the ditribution and remove nose (* )\n",
    "* Encoding (transforms categories into numbers)\n",
    "* Grouping Operations\n",
    "* Feature Split\n",
    "* Scaling - scales you data normally (* )\n",
    "* Extracting Date\n",
    "\n",
    "\n",
    "at the end of preprocessing: you will have a clean dataset"
   ]
  },
  {
   "cell_type": "code",
   "execution_count": null,
   "metadata": {},
   "outputs": [],
   "source": []
  },
  {
   "cell_type": "code",
   "execution_count": null,
   "metadata": {},
   "outputs": [],
   "source": []
  },
  {
   "cell_type": "code",
   "execution_count": null,
   "metadata": {},
   "outputs": [],
   "source": []
  },
  {
   "cell_type": "code",
   "execution_count": null,
   "metadata": {},
   "outputs": [],
   "source": []
  },
  {
   "cell_type": "code",
   "execution_count": null,
   "metadata": {},
   "outputs": [],
   "source": []
  },
  {
   "cell_type": "markdown",
   "metadata": {},
   "source": [
    "# Feature Selection\n",
    "\n",
    "sklearn modules:\n",
    "* SelectKBest(k=20, method=chi2)\n",
    "* SelectPercentile\n",
    "* SelectFromModel(estimator=RandomForestClassifier(), x=20) 31 => 20 best feats => best score\n",
    "* SelectRFE(estimator=, x=20)\n",
    "\n",
    "selection statistics:\n",
    "1. Classification:\n",
    "    * chi2\n",
    "    * anova (f_classif)\n",
    "    * mutual_info_classif\n",
    "2. Regression:\n",
    "    * p-values (f_refression)\n",
    "    * pearson's correlation (r_regression)\n",
    "    * mutual_info_regression\n",
    "\n",
    "\n",
    "at the end of this step: you will have an ideal dataset"
   ]
  },
  {
   "cell_type": "code",
   "execution_count": null,
   "metadata": {},
   "outputs": [],
   "source": []
  },
  {
   "cell_type": "code",
   "execution_count": null,
   "metadata": {},
   "outputs": [],
   "source": []
  },
  {
   "cell_type": "code",
   "execution_count": null,
   "metadata": {},
   "outputs": [],
   "source": []
  },
  {
   "cell_type": "code",
   "execution_count": null,
   "metadata": {},
   "outputs": [],
   "source": []
  },
  {
   "cell_type": "markdown",
   "metadata": {},
   "source": [
    "# BaseLine Modeling\n",
    "\n",
    "Linear Models:\n",
    "* Linear Regression (regression)\n",
    "* Logistic Regression (classification)\n",
    "* LinearSVM\n",
    "\n",
    "Tree-based Models (Non-Linear Models):\n",
    "* Decision Trees\n",
    "* Naive Bayes\n",
    "* Gaussian naive bayes\n",
    "* KNN\n",
    "* Support Vector Machines\n",
    "* Catboost\n",
    "* ExtraTrees\n",
    "\n",
    "Ensemble Models:\n",
    "* Bagged and boosted models\n",
    "* AdaBoost\n",
    "* Random Forest\n"
   ]
  },
  {
   "cell_type": "code",
   "execution_count": null,
   "metadata": {},
   "outputs": [],
   "source": []
  },
  {
   "cell_type": "code",
   "execution_count": null,
   "metadata": {},
   "outputs": [],
   "source": []
  },
  {
   "cell_type": "code",
   "execution_count": null,
   "metadata": {},
   "outputs": [],
   "source": []
  },
  {
   "cell_type": "code",
   "execution_count": null,
   "metadata": {},
   "outputs": [],
   "source": []
  },
  {
   "cell_type": "markdown",
   "metadata": {},
   "source": [
    "# Feature Engineering (optional)\n",
    "\n",
    "**[Fundamental Techniques of Feature Engineering for Machine Learning](https://towardsdatascience.com/feature-engineering-for-machine-learning-3a5e293a5114)**    \n",
    "Let's look into the terms:\n",
    "* **Feature:** An attribute useful for your modeling task. If a feature has no impact on the\n",
    "problem, it is not part of the problem. Hence, when \"meaningless attributes\" are removed\n",
    "from the data, the remaining attributes become a FEATURE\n",
    "* **Feature Importance:** An estimate of the usefulness of a feature. Features are\n",
    "allocated scores and can then be ranked by their scores. Those features with the highest\n",
    "scores can be selected for inclusion in the training dataset, whereas those remaining can\n",
    "be ignored. Some complex predictive modeling algorithms like MARS, Random Forest,\n",
    "and Gradient Boosted Machines report on the variable importance determined during the\n",
    "model preparation process.\n",
    "* **Feature Extraction:** The automatic construction of new features from raw data.\n",
    "Automatically reducing the dimensionality of these types of observations into a much\n",
    "smaller set that can be modeled. For tabular data, this might include projection methods\n",
    "like Principal Component Analysis and unsupervised clustering methods.\n",
    "* **Feature Selection:** From many features to a few that are useful. Regularization\n",
    "methods like LASSO and ridge regression may also be considered algorithms with\n",
    "feature selection baked in, as they actively seek to remove or discount the contribution of\n",
    "features as part of the model building process.\n",
    "* **Feature Construction:** The manual construction of new features from raw data.\n",
    "With tabular data, it often means a mixture of aggregating or combining features to\n",
    "create new features, and decomposing or splitting features to create new features. Like\n",
    "splitting Date-Time columns, Reframing numerical columns, Encoding Categorical\n",
    "columns, etc."
   ]
  },
  {
   "cell_type": "code",
   "execution_count": null,
   "metadata": {},
   "outputs": [],
   "source": []
  },
  {
   "cell_type": "code",
   "execution_count": null,
   "metadata": {},
   "outputs": [],
   "source": []
  },
  {
   "cell_type": "code",
   "execution_count": null,
   "metadata": {},
   "outputs": [],
   "source": []
  },
  {
   "cell_type": "markdown",
   "metadata": {},
   "source": [
    "# Hyperparameter Tuning\n",
    "\n",
    "* GridSearchCV\n",
    "* RandomisedSearchCV\n",
    "* TuneSearchCV\n",
    "* Optuna\n",
    "\n",
    "\n",
    "it takes a lot of time and computation power\n",
    "\n",
    "steps:\n",
    "1. initiate crossvalidation split\n",
    "2. initiate parameter grid\n",
    "3. choose an estimator (model)\n",
    "4. fitting"
   ]
  },
  {
   "cell_type": "code",
   "execution_count": null,
   "metadata": {},
   "outputs": [],
   "source": []
  },
  {
   "cell_type": "code",
   "execution_count": null,
   "metadata": {},
   "outputs": [],
   "source": []
  },
  {
   "cell_type": "code",
   "execution_count": null,
   "metadata": {},
   "outputs": [],
   "source": []
  },
  {
   "cell_type": "code",
   "execution_count": null,
   "metadata": {},
   "outputs": [],
   "source": []
  },
  {
   "cell_type": "code",
   "execution_count": null,
   "metadata": {},
   "outputs": [],
   "source": []
  },
  {
   "cell_type": "markdown",
   "metadata": {},
   "source": [
    "# Model Evaluation (performance analysis)\n",
    "\n",
    "**[20 Popular Machine Learning Metrics - I](https://towardsdatascience.com/20-popular-machine-learning-metrics-part-1-classification-regression-evaluation-metrics-1ca3e282a2ce)**  \n",
    "\n",
    "1. Classification:\n",
    "    * classification report\n",
    "    * accuracy\n",
    "    * precision\n",
    "    * recall\n",
    "    * f1-score\n",
    "    * ROC-AUC\n",
    "    \n",
    "2. Regression:\n",
    "    * MSE\n",
    "    * MAE\n",
    "    * RMSE\n",
    "    * r2 score"
   ]
  },
  {
   "cell_type": "code",
   "execution_count": null,
   "metadata": {},
   "outputs": [],
   "source": []
  },
  {
   "cell_type": "code",
   "execution_count": null,
   "metadata": {},
   "outputs": [],
   "source": []
  },
  {
   "cell_type": "code",
   "execution_count": null,
   "metadata": {},
   "outputs": [],
   "source": []
  },
  {
   "cell_type": "markdown",
   "metadata": {},
   "source": [
    "# Explainable AI"
   ]
  },
  {
   "cell_type": "code",
   "execution_count": null,
   "metadata": {},
   "outputs": [],
   "source": []
  },
  {
   "cell_type": "code",
   "execution_count": null,
   "metadata": {},
   "outputs": [],
   "source": []
  },
  {
   "cell_type": "code",
   "execution_count": null,
   "metadata": {},
   "outputs": [],
   "source": []
  },
  {
   "cell_type": "code",
   "execution_count": null,
   "metadata": {},
   "outputs": [],
   "source": []
  }
 ],
 "metadata": {
  "kernelspec": {
   "display_name": "Python 3",
   "language": "python",
   "name": "python3"
  },
  "language_info": {
   "codemirror_mode": {
    "name": "ipython",
    "version": 3
   },
   "file_extension": ".py",
   "mimetype": "text/x-python",
   "name": "python",
   "nbconvert_exporter": "python",
   "pygments_lexer": "ipython3",
   "version": "3.7.6"
  }
 },
 "nbformat": 4,
 "nbformat_minor": 4
}
